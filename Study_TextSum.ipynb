{
  "nbformat": 4,
  "nbformat_minor": 0,
  "metadata": {
    "colab": {
      "name": "Bản sao của Importing Files from Google Drive.ipynb",
      "provenance": [],
      "collapsed_sections": [],
      "toc_visible": true,
      "include_colab_link": true
    },
    "language_info": {
      "name": "python"
    },
    "kernelspec": {
      "name": "python3",
      "display_name": "Python 3"
    },
    "accelerator": "GPU"
  },
  "cells": [
    {
      "cell_type": "markdown",
      "metadata": {
        "id": "view-in-github",
        "colab_type": "text"
      },
      "source": [
        "<a href=\"https://colab.research.google.com/github/duySWEtdtu0406/Animation-series-with-Bootstrap/blob/main/Study_TextSum.ipynb\" target=\"_parent\"><img src=\"https://colab.research.google.com/assets/colab-badge.svg\" alt=\"Open In Colab\"/></a>"
      ]
    },
    {
      "cell_type": "markdown",
      "metadata": {
        "id": "UQSAUfIQmBtD"
      },
      "source": [
        "# Importing Files from Google Drive"
      ]
    },
    {
      "cell_type": "code",
      "metadata": {
        "colab": {
          "base_uri": "https://localhost:8080/"
        },
        "id": "Ah3Pur_EBE6q",
        "outputId": "b84c0b18-9fe6-4d76-8261-d48c8d532431"
      },
      "source": [
        "!pip install pyvi\n",
        "import pyvi\n",
        "import nltk\n",
        "!pip install underthesea\n",
        "from underthesea import word_tokenize\n",
        "!pip install keras\n",
        "from tensorflow import keras\n",
        "from __future__ import print_function\n",
        "\n",
        "from keras.models import Model\n",
        "from keras.layers import Input, LSTM, Dense\n",
        "import numpy as np\n",
        "import io\n",
        "from pickle import load"
      ],
      "execution_count": 1,
      "outputs": [
        {
          "output_type": "stream",
          "text": [
            "Collecting pyvi\n",
            "\u001b[?25l  Downloading https://files.pythonhosted.org/packages/10/e1/0e5bc6b5e3327b9385d6e0f1b0a7c0404f28b74eb6db59a778515b30fd9c/pyvi-0.1-py2.py3-none-any.whl (8.5MB)\n",
            "\u001b[K     |████████████████████████████████| 8.5MB 6.7MB/s \n",
            "\u001b[?25hCollecting sklearn-crfsuite\n",
            "  Downloading https://files.pythonhosted.org/packages/25/74/5b7befa513482e6dee1f3dd68171a6c9dfc14c0eaa00f885ffeba54fe9b0/sklearn_crfsuite-0.3.6-py2.py3-none-any.whl\n",
            "Requirement already satisfied: scikit-learn in /usr/local/lib/python3.7/dist-packages (from pyvi) (0.22.2.post1)\n",
            "Requirement already satisfied: tabulate in /usr/local/lib/python3.7/dist-packages (from sklearn-crfsuite->pyvi) (0.8.9)\n",
            "Requirement already satisfied: six in /usr/local/lib/python3.7/dist-packages (from sklearn-crfsuite->pyvi) (1.15.0)\n",
            "Requirement already satisfied: tqdm>=2.0 in /usr/local/lib/python3.7/dist-packages (from sklearn-crfsuite->pyvi) (4.41.1)\n",
            "Collecting python-crfsuite>=0.8.3\n",
            "\u001b[?25l  Downloading https://files.pythonhosted.org/packages/79/47/58f16c46506139f17de4630dbcfb877ce41a6355a1bbf3c443edb9708429/python_crfsuite-0.9.7-cp37-cp37m-manylinux1_x86_64.whl (743kB)\n",
            "\u001b[K     |████████████████████████████████| 747kB 57.3MB/s \n",
            "\u001b[?25hRequirement already satisfied: scipy>=0.17.0 in /usr/local/lib/python3.7/dist-packages (from scikit-learn->pyvi) (1.4.1)\n",
            "Requirement already satisfied: numpy>=1.11.0 in /usr/local/lib/python3.7/dist-packages (from scikit-learn->pyvi) (1.19.5)\n",
            "Requirement already satisfied: joblib>=0.11 in /usr/local/lib/python3.7/dist-packages (from scikit-learn->pyvi) (1.0.1)\n",
            "Installing collected packages: python-crfsuite, sklearn-crfsuite, pyvi\n",
            "Successfully installed python-crfsuite-0.9.7 pyvi-0.1 sklearn-crfsuite-0.3.6\n",
            "Collecting underthesea\n",
            "\u001b[?25l  Downloading https://files.pythonhosted.org/packages/a8/5f/03ab9091b88e7851aa92da33f8eea6f111423cc1194cf1636c63c1fff3d0/underthesea-1.3.1-py3-none-any.whl (7.5MB)\n",
            "\u001b[K     |████████████████████████████████| 7.5MB 6.6MB/s \n",
            "\u001b[?25hRequirement already satisfied: PyYAML in /usr/local/lib/python3.7/dist-packages (from underthesea) (3.13)\n",
            "Collecting seqeval\n",
            "\u001b[?25l  Downloading https://files.pythonhosted.org/packages/9d/2d/233c79d5b4e5ab1dbf111242299153f3caddddbb691219f363ad55ce783d/seqeval-1.2.2.tar.gz (43kB)\n",
            "\u001b[K     |████████████████████████████████| 51kB 8.8MB/s \n",
            "\u001b[?25hCollecting transformers<=3.5.1,>=3.5.0\n",
            "\u001b[?25l  Downloading https://files.pythonhosted.org/packages/3a/83/e74092e7f24a08d751aa59b37a9fc572b2e4af3918cb66f7766c3affb1b4/transformers-3.5.1-py3-none-any.whl (1.3MB)\n",
            "\u001b[K     |████████████████████████████████| 1.3MB 52.1MB/s \n",
            "\u001b[?25hRequirement already satisfied: joblib in /usr/local/lib/python3.7/dist-packages (from underthesea) (1.0.1)\n",
            "Collecting torch<=1.5.1,>=1.1.0\n",
            "\u001b[?25l  Downloading https://files.pythonhosted.org/packages/a4/cf/007b6de316c9f3d4cb315a60c308342cc299e464167f5ebc369e93b5e23a/torch-1.5.1-cp37-cp37m-manylinux1_x86_64.whl (753.2MB)\n",
            "\u001b[K     |████████████████████████████████| 753.2MB 17kB/s \n",
            "\u001b[?25hRequirement already satisfied: tqdm in /usr/local/lib/python3.7/dist-packages (from underthesea) (4.41.1)\n",
            "Requirement already satisfied: requests in /usr/local/lib/python3.7/dist-packages (from underthesea) (2.23.0)\n",
            "Requirement already satisfied: Click>=6.0 in /usr/local/lib/python3.7/dist-packages (from underthesea) (7.1.2)\n",
            "Requirement already satisfied: nltk in /usr/local/lib/python3.7/dist-packages (from underthesea) (3.2.5)\n",
            "Collecting unidecode\n",
            "\u001b[?25l  Downloading https://files.pythonhosted.org/packages/9e/25/723487ca2a52ebcee88a34d7d1f5a4b80b793f179ee0f62d5371938dfa01/Unidecode-1.2.0-py2.py3-none-any.whl (241kB)\n",
            "\u001b[K     |████████████████████████████████| 245kB 46.5MB/s \n",
            "\u001b[?25hRequirement already satisfied: python-crfsuite>=0.9.6 in /usr/local/lib/python3.7/dist-packages (from underthesea) (0.9.7)\n",
            "Requirement already satisfied: scikit-learn in /usr/local/lib/python3.7/dist-packages (from underthesea) (0.22.2.post1)\n",
            "Requirement already satisfied: numpy>=1.14.0 in /usr/local/lib/python3.7/dist-packages (from seqeval->underthesea) (1.19.5)\n",
            "Requirement already satisfied: packaging in /usr/local/lib/python3.7/dist-packages (from transformers<=3.5.1,>=3.5.0->underthesea) (20.9)\n",
            "Requirement already satisfied: regex!=2019.12.17 in /usr/local/lib/python3.7/dist-packages (from transformers<=3.5.1,>=3.5.0->underthesea) (2019.12.20)\n",
            "Requirement already satisfied: protobuf in /usr/local/lib/python3.7/dist-packages (from transformers<=3.5.1,>=3.5.0->underthesea) (3.12.4)\n",
            "Requirement already satisfied: filelock in /usr/local/lib/python3.7/dist-packages (from transformers<=3.5.1,>=3.5.0->underthesea) (3.0.12)\n",
            "Collecting tokenizers==0.9.3\n",
            "\u001b[?25l  Downloading https://files.pythonhosted.org/packages/7b/ac/f5ba028f0f097d855e1541301e946d4672eb0f30b6e25cb2369075f916d2/tokenizers-0.9.3-cp37-cp37m-manylinux1_x86_64.whl (2.9MB)\n",
            "\u001b[K     |████████████████████████████████| 2.9MB 50.6MB/s \n",
            "\u001b[?25hCollecting sentencepiece==0.1.91\n",
            "\u001b[?25l  Downloading https://files.pythonhosted.org/packages/f2/e2/813dff3d72df2f49554204e7e5f73a3dc0f0eb1e3958a4cad3ef3fb278b7/sentencepiece-0.1.91-cp37-cp37m-manylinux1_x86_64.whl (1.1MB)\n",
            "\u001b[K     |████████████████████████████████| 1.1MB 53.2MB/s \n",
            "\u001b[?25hCollecting sacremoses\n",
            "\u001b[?25l  Downloading https://files.pythonhosted.org/packages/08/cd/342e584ee544d044fb573ae697404ce22ede086c9e87ce5960772084cad0/sacremoses-0.0.44.tar.gz (862kB)\n",
            "\u001b[K     |████████████████████████████████| 870kB 53.3MB/s \n",
            "\u001b[?25hRequirement already satisfied: future in /usr/local/lib/python3.7/dist-packages (from torch<=1.5.1,>=1.1.0->underthesea) (0.16.0)\n",
            "Requirement already satisfied: chardet<4,>=3.0.2 in /usr/local/lib/python3.7/dist-packages (from requests->underthesea) (3.0.4)\n",
            "Requirement already satisfied: idna<3,>=2.5 in /usr/local/lib/python3.7/dist-packages (from requests->underthesea) (2.10)\n",
            "Requirement already satisfied: certifi>=2017.4.17 in /usr/local/lib/python3.7/dist-packages (from requests->underthesea) (2020.12.5)\n",
            "Requirement already satisfied: urllib3!=1.25.0,!=1.25.1,<1.26,>=1.21.1 in /usr/local/lib/python3.7/dist-packages (from requests->underthesea) (1.24.3)\n",
            "Requirement already satisfied: six in /usr/local/lib/python3.7/dist-packages (from nltk->underthesea) (1.15.0)\n",
            "Requirement already satisfied: scipy>=0.17.0 in /usr/local/lib/python3.7/dist-packages (from scikit-learn->underthesea) (1.4.1)\n",
            "Requirement already satisfied: pyparsing>=2.0.2 in /usr/local/lib/python3.7/dist-packages (from packaging->transformers<=3.5.1,>=3.5.0->underthesea) (2.4.7)\n",
            "Requirement already satisfied: setuptools in /usr/local/lib/python3.7/dist-packages (from protobuf->transformers<=3.5.1,>=3.5.0->underthesea) (54.2.0)\n",
            "Building wheels for collected packages: seqeval, sacremoses\n",
            "  Building wheel for seqeval (setup.py) ... \u001b[?25l\u001b[?25hdone\n",
            "  Created wheel for seqeval: filename=seqeval-1.2.2-cp37-none-any.whl size=16172 sha256=e44799e4a74ddc901fbe90b885bd704bf644f2651318ed7a088b41d2b7315aa6\n",
            "  Stored in directory: /root/.cache/pip/wheels/52/df/1b/45d75646c37428f7e626214704a0e35bd3cfc32eda37e59e5f\n",
            "  Building wheel for sacremoses (setup.py) ... \u001b[?25l\u001b[?25hdone\n",
            "  Created wheel for sacremoses: filename=sacremoses-0.0.44-cp37-none-any.whl size=886084 sha256=a0ee83655c5db01073cffb8e2a7bb02c912be02d723d4387f70dc502e8b319bf\n",
            "  Stored in directory: /root/.cache/pip/wheels/3e/fb/c0/13ab4d63d537658f448366744654323077c4d90069b6512f3c\n",
            "Successfully built seqeval sacremoses\n",
            "\u001b[31mERROR: torchvision 0.9.1+cu101 has requirement torch==1.8.1, but you'll have torch 1.5.1 which is incompatible.\u001b[0m\n",
            "\u001b[31mERROR: torchtext 0.9.1 has requirement torch==1.8.1, but you'll have torch 1.5.1 which is incompatible.\u001b[0m\n",
            "Installing collected packages: seqeval, tokenizers, sentencepiece, sacremoses, transformers, torch, unidecode, underthesea\n",
            "  Found existing installation: torch 1.8.1+cu101\n",
            "    Uninstalling torch-1.8.1+cu101:\n",
            "      Successfully uninstalled torch-1.8.1+cu101\n",
            "Successfully installed sacremoses-0.0.44 sentencepiece-0.1.91 seqeval-1.2.2 tokenizers-0.9.3 torch-1.5.1 transformers-3.5.1 underthesea-1.3.1 unidecode-1.2.0\n",
            "Requirement already satisfied: keras in /usr/local/lib/python3.7/dist-packages (2.4.3)\n",
            "Requirement already satisfied: pyyaml in /usr/local/lib/python3.7/dist-packages (from keras) (3.13)\n",
            "Requirement already satisfied: h5py in /usr/local/lib/python3.7/dist-packages (from keras) (2.10.0)\n",
            "Requirement already satisfied: numpy>=1.9.1 in /usr/local/lib/python3.7/dist-packages (from keras) (1.19.5)\n",
            "Requirement already satisfied: scipy>=0.14 in /usr/local/lib/python3.7/dist-packages (from keras) (1.4.1)\n",
            "Requirement already satisfied: six in /usr/local/lib/python3.7/dist-packages (from h5py->keras) (1.15.0)\n"
          ],
          "name": "stdout"
        }
      ]
    },
    {
      "cell_type": "code",
      "metadata": {
        "id": "IbRkeJEo9-cm",
        "colab": {
          "base_uri": "https://localhost:8080/"
        },
        "outputId": "2558f446-1999-4a45-a4a8-9059fd38becb"
      },
      "source": [
        "from google.colab import drive\n",
        "drive.mount(\"/dataset\", force_remount=True)"
      ],
      "execution_count": 11,
      "outputs": [
        {
          "output_type": "stream",
          "text": [
            "Mounted at /dataset\n"
          ],
          "name": "stdout"
        }
      ]
    },
    {
      "cell_type": "code",
      "metadata": {
        "id": "a4sKvUpd_VKV"
      },
      "source": [
        "#get Data from drive\n",
        "f = open('/dataset/MyDrive/donvanban/Plaintext/Chinh tri/CT01.txt', 'r')\n",
        "data = f.read()\n",
        "s = open('/dataset/MyDrive/donvanban/Summary_manual/Chinh Tri/CT01.txt', 'r')\n",
        "sum = s.read()\n",
        "stopword = open('/dataset/MyDrive/vietnamese_stopword.txt', 'r')\n",
        "stopword = stopword.read()\n"
      ],
      "execution_count": 12,
      "outputs": []
    },
    {
      "cell_type": "code",
      "metadata": {
        "colab": {
          "base_uri": "https://localhost:8080/"
        },
        "id": "65Ws9cgLAKgF",
        "outputId": "211f82a2-a2e2-4f9e-c684-b79545fe4902"
      },
      "source": [
        "#pre-processing - document\n",
        "# nltk.download('punkt')\n",
        "data = data.lower()\n",
        "data = data.replace('\\n', '. ')\n",
        "data = data.strip()\n",
        "data = word_tokenize(data)\n",
        "data = [i for i in data if not i in stopword]\n",
        "# sentences = nltk.sent_tokenize(data)\n",
        "newText = \" \".join(data)\n",
        "print(newText)"
      ],
      "execution_count": 13,
      "outputs": [
        {
          "output_type": "stream",
          "text": [
            "ưu tiên việt nam xây điện hạt nhân . . 11/4 , đại sứ liên bang việt nam andrey kovtun đoàn công tác thăm làm việc tỉnh ninh thuận tình hình triển khai xây dựng nhà máy điện hạt nhân ninh thuận .. làm việc , chủ tịch ủy ban nhân dân tỉnh ninh thuận nguyễn đức tỉnh hoàn chỉnh chính sách , cơ chế đặc thù thủ tướng chính phủ phê duyệt . tỉnh hoàn thành công tác đo đạc bản đồ thu hồi khu vực triển khai dự án khu vực thu hồi xây dựng nhà máy , khu tái định cư , khu nghĩa trang hệ thống phục vụ khu tái định cư nhà máy điện hạt nhân ninh thuận 1 ; hoàn thành công tác kiểm kê khu vực lõi nhà máy .. tỉnh hoàn thành khảo sát đo đạc địa hình , địa chất phục vụ công tác lập quy hoạch dự án đầu tư ; hoàn thành công tác lập quy hoạch chi tiết khu tái định cư nhà máy 1 diện tích 86,9 khu nghĩa trang diện tích 10,8 .. tỉnh thành lập ban quản lý dự án điện hạt nhân dự án di dân , tái định cư ủy ban nhân dân tỉnh làm chủ đầu tư . , tỉnh phấn đấu hoàn thành công tác bồi thường , giải phóng mặt bằng , tổ chức thi công xây dựng công trình hạ tầng phục vụ di dân tái định cư khu tái định cư , nghĩa trang hệ thống phục vụ khu tái định cư nhà máy điện hạt nhân ninh thuận 1 .. quy hoạch duyệt , khu tái định cư khu nằm vành đai du lịch , đầu tư đồng bộ hệ thống hạ tầng kỹ thuật , hạ tầng xã hội tiêu chuẩn khu đô thị . bàn giao mốc ranh giới , mốc hàng rào nhà máy điện hạt nhân , tỉnh xác định , quy mô xây dựng khu tái định canh , ổn định phát triển sản xuất lâu dài dân .. đại sứ andrey kovtun công tác xây dựng nhà máy điện hạt nhân ninh thuận 1 . ưu tiên việt nam công tác xây dựng nhà máy điện hạt nhân , dự kiến 2013 , hoàn thành hồ sơ triển khai xây dựng nhà máy điện hạt nhân số 1 ninh thuận , tổ chức hội thảo ninh thuận công ty , doanh nghiệp tỉnh tham gia đầu tư ngành công nghiệp phụ trợ xây dựng nhà máy điện hạt nhân .. tỉnh ninh thuận mong muốn , chính phủ liên bang đào tạo nhân lực lĩnh vực tỉnh nhu cầu ( chương trình đào tạo chính phủ hai hợp tác ) , tỉnh xúc tiến đầu tư , vận động doanh nghiệp đầu tư tỉnh lĩnh vực sản xuất , chuyển giao công nghệ phục vụ xây dựng nhà máy điện hạt nhân ngành công nghiệp phụ trợ\n"
          ],
          "name": "stdout"
        }
      ]
    },
    {
      "cell_type": "code",
      "metadata": {
        "colab": {
          "base_uri": "https://localhost:8080/"
        },
        "id": "ReFc1RyjgXeH",
        "outputId": "3c9079b9-20a7-48da-91be-a7b4ed0bcd42"
      },
      "source": [
        "#pre-process - sumary\n",
        "sum = sum.lower()\n",
        "\n",
        "sum = sum.replace('\\n', '. ')\n",
        "sum = sum.strip()\n",
        "sum = word_tokenize(sum)\n",
        "# sentences = nltk.sent_tokenize(data)\n",
        "sumNewText = \" \".join(sum)\n",
        "print(sumNewText)"
      ],
      "execution_count": 14,
      "outputs": [
        {
          "output_type": "stream",
          "text": [
            "ngày 11/4 , đại sứ liên bang nga tại việt nam andrey kovtun cùng đoàn công tác đã thăm và làm việc với tỉnh ninh thuận về tình hình triển khai xây dựng nhà máy điện hạt nhân ninh thuận .. phía nga luôn ưu tiên cao nhất cho việt nam trong công tác xây dựng nhà máy điện hạt nhân , dự kiến cuối năm 2013 , nga sẽ hoàn thành hồ sơ triển khai xây dựng nhà máy điện hạt nhân số 1 tại ninh thuận , đồng thời sẽ tổ chức hội thảo tại ninh thuận để các công ty , các doanh nghiệp của tỉnh và cả nước tham gia đầu tư vào các ngành công nghiệp phụ trợ cho xây dựng nhà máy điện hạt nhân .\n"
          ],
          "name": "stdout"
        }
      ]
    },
    {
      "cell_type": "code",
      "metadata": {
        "colab": {
          "base_uri": "https://localhost:8080/"
        },
        "id": "TD2DZu6Qme1v",
        "outputId": "ef5db0ac-c9f1-4852-a0e7-dbc80b6bdcc8"
      },
      "source": [
        "#make story\n",
        "stories = list()\n",
        "stories.append({\n",
        "    'story': newText,\n",
        "    'hightlight': sumNewText\n",
        "})\n",
        "a_key = \"story\"\n",
        "values_of_key = [a_dict[a_key] for a_dict in stories]\n",
        "print(values_of_key)"
      ],
      "execution_count": 15,
      "outputs": [
        {
          "output_type": "stream",
          "text": [
            "['ưu tiên việt nam xây điện hạt nhân . . 11/4 , đại sứ liên bang việt nam andrey kovtun đoàn công tác thăm làm việc tỉnh ninh thuận tình hình triển khai xây dựng nhà máy điện hạt nhân ninh thuận .. làm việc , chủ tịch ủy ban nhân dân tỉnh ninh thuận nguyễn đức tỉnh hoàn chỉnh chính sách , cơ chế đặc thù thủ tướng chính phủ phê duyệt . tỉnh hoàn thành công tác đo đạc bản đồ thu hồi khu vực triển khai dự án khu vực thu hồi xây dựng nhà máy , khu tái định cư , khu nghĩa trang hệ thống phục vụ khu tái định cư nhà máy điện hạt nhân ninh thuận 1 ; hoàn thành công tác kiểm kê khu vực lõi nhà máy .. tỉnh hoàn thành khảo sát đo đạc địa hình , địa chất phục vụ công tác lập quy hoạch dự án đầu tư ; hoàn thành công tác lập quy hoạch chi tiết khu tái định cư nhà máy 1 diện tích 86,9 khu nghĩa trang diện tích 10,8 .. tỉnh thành lập ban quản lý dự án điện hạt nhân dự án di dân , tái định cư ủy ban nhân dân tỉnh làm chủ đầu tư . , tỉnh phấn đấu hoàn thành công tác bồi thường , giải phóng mặt bằng , tổ chức thi công xây dựng công trình hạ tầng phục vụ di dân tái định cư khu tái định cư , nghĩa trang hệ thống phục vụ khu tái định cư nhà máy điện hạt nhân ninh thuận 1 .. quy hoạch duyệt , khu tái định cư khu nằm vành đai du lịch , đầu tư đồng bộ hệ thống hạ tầng kỹ thuật , hạ tầng xã hội tiêu chuẩn khu đô thị . bàn giao mốc ranh giới , mốc hàng rào nhà máy điện hạt nhân , tỉnh xác định , quy mô xây dựng khu tái định canh , ổn định phát triển sản xuất lâu dài dân .. đại sứ andrey kovtun công tác xây dựng nhà máy điện hạt nhân ninh thuận 1 . ưu tiên việt nam công tác xây dựng nhà máy điện hạt nhân , dự kiến 2013 , hoàn thành hồ sơ triển khai xây dựng nhà máy điện hạt nhân số 1 ninh thuận , tổ chức hội thảo ninh thuận công ty , doanh nghiệp tỉnh tham gia đầu tư ngành công nghiệp phụ trợ xây dựng nhà máy điện hạt nhân .. tỉnh ninh thuận mong muốn , chính phủ liên bang đào tạo nhân lực lĩnh vực tỉnh nhu cầu ( chương trình đào tạo chính phủ hai hợp tác ) , tỉnh xúc tiến đầu tư , vận động doanh nghiệp đầu tư tỉnh lĩnh vực sản xuất , chuyển giao công nghệ phục vụ xây dựng nhà máy điện hạt nhân ngành công nghiệp phụ trợ']\n"
          ],
          "name": "stdout"
        }
      ]
    },
    {
      "cell_type": "code",
      "metadata": {
        "colab": {
          "base_uri": "https://localhost:8080/"
        },
        "id": "wqo8QAyEoii_",
        "outputId": "db9c6ea1-b9cf-49cd-c5c2-f243b3ad20e8"
      },
      "source": [
        "\n"
      ],
      "execution_count": 48,
      "outputs": [
        {
          "output_type": "stream",
          "text": [
            "Number of samples: 2127\n",
            "Number of unique input tokens: 0\n",
            "Number of unique output tokens: 0\n",
            "Max sequence length for inputs: 1\n",
            "Max sequence length for outputs: 1\n"
          ],
          "name": "stdout"
        }
      ]
    },
    {
      "cell_type": "code",
      "metadata": {
        "colab": {
          "base_uri": "https://localhost:8080/",
          "height": 231
        },
        "id": "Wz9ZwOc8yKvm",
        "outputId": "e1c5edff-c9dc-4ed9-901c-0942972a45dc"
      },
      "source": [
        ""
      ],
      "execution_count": 16,
      "outputs": [
        {
          "output_type": "error",
          "ename": "KeyError",
          "evalue": "ignored",
          "traceback": [
            "\u001b[0;31m---------------------------------------------------------------------------\u001b[0m",
            "\u001b[0;31mKeyError\u001b[0m                                  Traceback (most recent call last)",
            "\u001b[0;32m<ipython-input-16-00a2972be286>\u001b[0m in \u001b[0;36m<module>\u001b[0;34m()\u001b[0m\n\u001b[1;32m     11\u001b[0m \u001b[0;32mfor\u001b[0m \u001b[0mstory\u001b[0m \u001b[0;32min\u001b[0m \u001b[0mstories\u001b[0m\u001b[0;34m:\u001b[0m\u001b[0;34m\u001b[0m\u001b[0;34m\u001b[0m\u001b[0m\n\u001b[1;32m     12\u001b[0m     \u001b[0minput_text\u001b[0m \u001b[0;34m=\u001b[0m \u001b[0mstory\u001b[0m\u001b[0;34m[\u001b[0m\u001b[0;34m'story'\u001b[0m\u001b[0;34m]\u001b[0m\u001b[0;34m\u001b[0m\u001b[0;34m\u001b[0m\u001b[0m\n\u001b[0;32m---> 13\u001b[0;31m     \u001b[0;32mfor\u001b[0m \u001b[0mhighlight\u001b[0m \u001b[0;32min\u001b[0m \u001b[0mstory\u001b[0m\u001b[0;34m[\u001b[0m\u001b[0;34m'highlights'\u001b[0m\u001b[0;34m]\u001b[0m\u001b[0;34m:\u001b[0m\u001b[0;34m\u001b[0m\u001b[0;34m\u001b[0m\u001b[0m\n\u001b[0m\u001b[1;32m     14\u001b[0m         \u001b[0mtarget_text\u001b[0m \u001b[0;34m=\u001b[0m \u001b[0mhighlight\u001b[0m\u001b[0;34m\u001b[0m\u001b[0;34m\u001b[0m\u001b[0m\n\u001b[1;32m     15\u001b[0m \u001b[0;34m\u001b[0m\u001b[0m\n",
            "\u001b[0;31mKeyError\u001b[0m: 'highlights'"
          ]
        }
      ]
    }
  ]
}